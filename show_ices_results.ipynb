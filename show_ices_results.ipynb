{
 "cells": [
  {
   "cell_type": "code",
   "execution_count": 1,
   "metadata": {
    "collapsed": false
   },
   "outputs": [
    {
     "data": {
      "text/plain": [
       "true"
      ]
     },
     "execution_count": 1,
     "metadata": {},
     "output_type": "execute_result"
    }
   ],
   "source": [
    "using PyPlot\n",
    "using DataFrames\n",
    "pygui(true)"
   ]
  },
  {
   "cell_type": "code",
   "execution_count": 31,
   "metadata": {
    "collapsed": false
   },
   "outputs": [],
   "source": [
    "H2O_ices = readtable(\"src/H2O_ices_tDFMS.dat\");\n",
    "H2O_ices[:date] = DateTime[DateTime(tStr) for tStr in H2O_ices[:date]];\n",
    "H2O_ices = H2O_ices[H2O_ices[:delta_lon] .<= 5.0, :]\n",
    "H2O = readtable(\"/home/abieler/rosetta/data/dfms/evaluated/timeSeries/H2O.csv\");\n",
    "H2O[:date] = [DateTime(tStr) for tStr in H2O[:date]];\n",
    "H2O = H2O[H2O[:row] .== \"A\",:];"
   ]
  },
  {
   "cell_type": "code",
   "execution_count": 32,
   "metadata": {
    "collapsed": false
   },
   "outputs": [
    {
     "data": {
      "text/plain": [
       "1-element Array{Any,1}:\n",
       " PyObject <matplotlib.lines.Line2D object at 0x7f80a94b4f10>"
      ]
     },
     "execution_count": 32,
     "metadata": {},
     "output_type": "execute_result"
    }
   ],
   "source": [
    "fig, ax = subplots(2,1,sharex=true)\n",
    "ax[1,1][:semilogy](H2O[:date], H2O[:peakAreaIonPerSpec], \"ok\")\n",
    "ax[1,1][:semilogy](H2O_ices[:date], H2O_ices[:NumberDensity]./1e7, \"sr\", markeredgecolor=\"r\")\n",
    "ax[2,1][:plot](H2O_ices[:date], H2O_ices[:delta_lon], \"-k\", lw=2)\n",
    "ax[2,1][:plot](H2O_ices[:date], H2O_ices[:delta_lat], \"-r\", lw=2)"
   ]
  },
  {
   "cell_type": "code",
   "execution_count": 10,
   "metadata": {
    "collapsed": true
   },
   "outputs": [],
   "source": [
    "CO2_ices = readtable(\"src/CO2_ices.dat\");\n",
    "CO2_ices[:date] = DateTime[DateTime(tStr) for tStr in CO2_ices[:date]];\n",
    "CO2 = readtable(\"/home/abieler/rosetta/data/dfms/evaluated/timeSeries/CO2.csv\");\n",
    "CO2[:date] = [DateTime(tStr) for tStr in CO2[:date]];\n",
    "CO2 = CO2[CO2[:row] .== \"A\",:];"
   ]
  },
  {
   "cell_type": "code",
   "execution_count": 16,
   "metadata": {
    "collapsed": false
   },
   "outputs": [
    {
     "data": {
      "text/plain": [
       "1-element Array{Any,1}:\n",
       " PyObject <matplotlib.lines.Line2D object at 0x7f80b0f13c90>"
      ]
     },
     "execution_count": 16,
     "metadata": {},
     "output_type": "execute_result"
    }
   ],
   "source": [
    "fig, ax = subplots(2,1,sharex=true)\n",
    "ax[1,1][:semilogy](CO2[:date], CO2[:peakAreaIonPerSpec], \"-k\")\n",
    "ax[1,1][:semilogy](CO2_ices[:date], CO2_ices[:NumberDensity]./1e7, \"-r\", markeredgecolor=\"r\")\n",
    "ax[2,1][:plot](CO2_ices[:date], CO2_ices[:delta_lon], \"-k\", lw=2)\n",
    "ax[2,1][:plot](CO2_ices[:date], CO2_ices[:delta_lat], \"-r\", lw=2)"
   ]
  },
  {
   "cell_type": "code",
   "execution_count": 23,
   "metadata": {
    "collapsed": false
   },
   "outputs": [],
   "source": [
    "df = H2O\n",
    "dfflt = df[(df[:date] .< DateTime(2015,12,1)), :]\n",
    "fid = open(\"tDFMS_H2O.dat\", \"w\")\n",
    "for t in dfflt[:date]\n",
    "    write(fid, string(t), \"\\n\")\n",
    "end\n",
    "close(fid)"
   ]
  },
  {
   "cell_type": "code",
   "execution_count": 28,
   "metadata": {
    "collapsed": false
   },
   "outputs": [
    {
     "data": {
      "text/html": [
       "<table class=\"data-frame\"><tr><th></th><th>date</th><th>NumberDensity</th><th>V0</th><th>V1</th><th>V2</th><th>Speed</th><th>TranslationalTemperature</th><th>Trot</th><th>delta_lat</th><th>delta_lon</th></tr><tr><th>1</th><td>2014-08-01T07:17:21</td><td>0.0</td><td>0.0</td><td>0.0</td><td>0.0</td><td>0.0</td><td>0.0</td><td>0.0</td><td>1.2683401372030403</td><td>6.756155075890291</td></tr><tr><th>2</th><td>2014-08-01T07:20:59</td><td>0.0</td><td>0.0</td><td>0.0</td><td>0.0</td><td>0.0</td><td>0.0</td><td>0.0</td><td>1.268204767796476</td><td>4.999004260975681</td></tr><tr><th>3</th><td>2014-08-01T07:59:09</td><td>0.0</td><td>0.0</td><td>0.0</td><td>0.0</td><td>0.0</td><td>0.0</td><td>0.0</td><td>1.2667826465935548</td><td>13.459139556984496</td></tr><tr><th>4</th><td>2014-08-01T10:09:21</td><td>0.0</td><td>0.0</td><td>0.0</td><td>0.0</td><td>0.0</td><td>0.0</td><td>0.0</td><td>1.2619296186241513</td><td>10.62479022586632</td></tr><tr><th>5</th><td>2014-08-01T10:12:41</td><td>0.0</td><td>0.0</td><td>0.0</td><td>0.0</td><td>0.0</td><td>0.0</td><td>0.0</td><td>1.261805339248724</td><td>9.01272530312309</td></tr><tr><th>6</th><td>2014-08-01T10:28:50</td><td>0.0</td><td>0.0</td><td>0.0</td><td>0.0</td><td>0.0</td><td>0.0</td><td>0.0</td><td>1.2612031816998979</td><td>1.2022707648630444</td></tr></table>"
      ],
      "text/plain": [
       "6x10 DataFrames.DataFrame\n",
       "| Row | date                | NumberDensity | V0  | V1  | V2  | Speed |\n",
       "|-----|---------------------|---------------|-----|-----|-----|-------|\n",
       "| 1   | 2014-08-01T07:17:21 | 0.0           | 0.0 | 0.0 | 0.0 | 0.0   |\n",
       "| 2   | 2014-08-01T07:20:59 | 0.0           | 0.0 | 0.0 | 0.0 | 0.0   |\n",
       "| 3   | 2014-08-01T07:59:09 | 0.0           | 0.0 | 0.0 | 0.0 | 0.0   |\n",
       "| 4   | 2014-08-01T10:09:21 | 0.0           | 0.0 | 0.0 | 0.0 | 0.0   |\n",
       "| 5   | 2014-08-01T10:12:41 | 0.0           | 0.0 | 0.0 | 0.0 | 0.0   |\n",
       "| 6   | 2014-08-01T10:28:50 | 0.0           | 0.0 | 0.0 | 0.0 | 0.0   |\n",
       "\n",
       "| Row | TranslationalTemperature | Trot | delta_lat | delta_lon |\n",
       "|-----|--------------------------|------|-----------|-----------|\n",
       "| 1   | 0.0                      | 0.0  | 1.26834   | 6.75616   |\n",
       "| 2   | 0.0                      | 0.0  | 1.2682    | 4.999     |\n",
       "| 3   | 0.0                      | 0.0  | 1.26678   | 13.4591   |\n",
       "| 4   | 0.0                      | 0.0  | 1.26193   | 10.6248   |\n",
       "| 5   | 0.0                      | 0.0  | 1.26181   | 9.01273   |\n",
       "| 6   | 0.0                      | 0.0  | 1.2612    | 1.20227   |"
      ]
     },
     "execution_count": 28,
     "metadata": {},
     "output_type": "execute_result"
    }
   ],
   "source": [
    "head(H2O_ices)"
   ]
  },
  {
   "cell_type": "code",
   "execution_count": null,
   "metadata": {
    "collapsed": true
   },
   "outputs": [],
   "source": []
  }
 ],
 "metadata": {
  "kernelspec": {
   "display_name": "Julia 0.4.0",
   "language": "julia",
   "name": "julia-0.4"
  },
  "language_info": {
   "file_extension": ".jl",
   "mimetype": "application/julia",
   "name": "julia",
   "version": "0.4.2"
  }
 },
 "nbformat": 4,
 "nbformat_minor": 0
}
