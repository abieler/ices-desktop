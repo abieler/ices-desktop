{
 "cells": [
  {
   "cell_type": "code",
   "execution_count": 1,
   "metadata": {
    "collapsed": false
   },
   "outputs": [
    {
     "data": {
      "text/plain": [
       "true"
      ]
     },
     "execution_count": 1,
     "metadata": {},
     "output_type": "execute_result"
    }
   ],
   "source": [
    "using PyPlot\n",
    "using DataFrames\n",
    "using DFMS\n",
    "pygui(true)"
   ]
  },
  {
   "cell_type": "code",
   "execution_count": 29,
   "metadata": {
    "collapsed": false
   },
   "outputs": [],
   "source": [
    "data = time_series(\"/home/abieler/Downloads/DFMS_major_species.csv\");"
   ]
  },
  {
   "cell_type": "code",
   "execution_count": 48,
   "metadata": {
    "collapsed": false
   },
   "outputs": [
    {
     "data": {
      "text/html": [
       "<table class=\"data-frame\"><tr><th></th><th>date</th><th>H2O</th></tr><tr><th>1</th><td>2014-09-01T23:15:42</td><td>5.240040246091293e12</td></tr><tr><th>2</th><td>2014-09-01T23:43:41</td><td>4.040743069275341e12</td></tr><tr><th>3</th><td>2014-09-01T23:47:27</td><td>3.955844729949646e12</td></tr><tr><th>4</th><td>2014-09-02T00:48:02</td><td>2.7347712723726953e12</td></tr><tr><th>5</th><td>2014-09-02T00:51:43</td><td>2.643652549775188e12</td></tr><tr><th>6</th><td>2014-09-02T01:19:42</td><td>2.5112350531803467e12</td></tr><tr><th>7</th><td>2014-09-02T01:23:20</td><td>2.625597264708879e12</td></tr><tr><th>8</th><td>2014-09-02T01:51:07</td><td>3.015546963187434e12</td></tr><tr><th>9</th><td>2014-09-02T01:54:54</td><td>3.097136801842912e12</td></tr><tr><th>10</th><td>2014-09-02T02:23:11</td><td>3.4202688256180127e12</td></tr><tr><th>11</th><td>2014-09-02T02:26:51</td><td>3.2987134648869497e12</td></tr><tr><th>12</th><td>2014-09-02T02:54:38</td><td>3.617862967096168e12</td></tr><tr><th>13</th><td>2014-09-02T02:58:16</td><td>3.6503581165634897e12</td></tr><tr><th>14</th><td>2014-09-02T03:26:34</td><td>4.907872415571195e12</td></tr><tr><th>15</th><td>2014-09-02T03:30:14</td><td>4.681468919892226e12</td></tr><tr><th>16</th><td>2014-09-02T03:58:03</td><td>4.906023555963881e12</td></tr><tr><th>17</th><td>2014-09-02T04:01:43</td><td>4.825478105884877e12</td></tr><tr><th>18</th><td>2014-09-02T04:29:47</td><td>4.957060833200132e12</td></tr><tr><th>19</th><td>2014-09-02T04:33:27</td><td>4.755802811805538e12</td></tr><tr><th>20</th><td>2014-09-02T05:01:24</td><td>4.70044091620787e12</td></tr><tr><th>21</th><td>2014-09-02T05:05:05</td><td>4.583504219244507e12</td></tr><tr><th>22</th><td>2014-09-02T05:33:00</td><td>4.0820840811491924e12</td></tr><tr><th>23</th><td>2014-09-02T05:36:40</td><td>4.03212894585308e12</td></tr><tr><th>24</th><td>2014-09-02T06:04:37</td><td>3.3846440024885664e12</td></tr><tr><th>25</th><td>2014-09-02T06:08:19</td><td>3.323416365696832e12</td></tr><tr><th>26</th><td>2014-09-02T06:36:21</td><td>2.7494094105410435e12</td></tr><tr><th>27</th><td>2014-09-02T06:40:03</td><td>2.7889725597817446e12</td></tr><tr><th>28</th><td>2014-09-02T07:08:08</td><td>2.3811007729706455e12</td></tr><tr><th>29</th><td>2014-09-02T07:11:44</td><td>2.296395260743328e12</td></tr><tr><th>30</th><td>2014-09-02T07:39:44</td><td>2.4200173087877065e12</td></tr><tr><th>&vellip;</th><td>&vellip;</td><td>&vellip;</td></tr></table>"
      ],
      "text/plain": [
       "16938x2 DataFrames.DataFrame\n",
       "| Row   | date                | H2O        |\n",
       "|-------|---------------------|------------|\n",
       "| 1     | 2014-09-01T23:15:42 | 5.24004e12 |\n",
       "| 2     | 2014-09-01T23:43:41 | 4.04074e12 |\n",
       "| 3     | 2014-09-01T23:47:27 | 3.95584e12 |\n",
       "| 4     | 2014-09-02T00:48:02 | 2.73477e12 |\n",
       "| 5     | 2014-09-02T00:51:43 | 2.64365e12 |\n",
       "| 6     | 2014-09-02T01:19:42 | 2.51124e12 |\n",
       "| 7     | 2014-09-02T01:23:20 | 2.6256e12  |\n",
       "| 8     | 2014-09-02T01:51:07 | 3.01555e12 |\n",
       "| 9     | 2014-09-02T01:54:54 | 3.09714e12 |\n",
       "| 10    | 2014-09-02T02:23:11 | 3.42027e12 |\n",
       "| 11    | 2014-09-02T02:26:51 | 3.29871e12 |\n",
       "⋮\n",
       "| 16927 | 2015-10-27T21:27:59 | 1.66489e13 |\n",
       "| 16928 | 2015-10-27T22:06:15 | 1.29896e13 |\n",
       "| 16929 | 2015-10-27T22:07:19 | 1.29416e13 |\n",
       "| 16930 | 2015-10-27T22:10:49 | 1.3127e13  |\n",
       "| 16931 | 2015-10-31T17:16:30 | 1.69979e13 |\n",
       "| 16932 | 2015-10-31T17:17:14 | 1.69045e13 |\n",
       "| 16933 | 2015-10-31T17:20:44 | 1.70587e13 |\n",
       "| 16934 | 2015-10-31T22:19:46 | 1.93047e13 |\n",
       "| 16935 | 2015-10-31T22:23:22 | 1.90458e13 |\n",
       "| 16936 | 2015-10-31T23:01:56 | 1.74464e13 |\n",
       "| 16937 | 2015-10-31T23:02:36 | 1.75372e13 |\n",
       "| 16938 | 2015-10-31T23:06:10 | 1.74706e13 |"
      ]
     },
     "execution_count": 48,
     "metadata": {},
     "output_type": "execute_result"
    }
   ],
   "source": [
    "#H2O_ices = time_series(\"/home/abieler/ices/data/evaluated/result_tDFMS_H2O.dat\");\n",
    "#H2O_ices[:date] = DateTime[DateTime(tStr) for tStr in H2O_ices[:date]];\n",
    "#H2O_ices = readtable(\"/home/abieler/ices/ices-desktop/work/output/result_H2O.dat\");\n",
    "H2O_ices = time_series(\"/home/abieler/ices/data/stavro/H2O_ICES_Mar2015.csv\");\n",
    "\n",
    "#H2O_ices[:NumberDensity] *= 3.0\n",
    "H2O = data[:,[:date, :H2O]];\n",
    "#H2O_old = time_series(\"/home/abieler/Downloads/H2O_flt.csv\")\n",
    "#H2O_ices = H2O_ices[H2O_ices[:delta_lon] .<= 5.0, :]\n",
    "#H2O = time_series(\"/home/abieler/rosetta/data/dfms/evaluated/timeSeries/new/H2O_new_spice.csv\");\n",
    "#H2O[:date] = [DateTime(tStr) for tStr in H2O[:date]];\n",
    "#H2O = H2O[H2O[:row] .== \"A\",:];\n",
    "#writetable(\"/home/abieler/ices/data/stavro/H2O_ICES_Mar2015.csv\", H2O_ices)"
   ]
  },
  {
   "cell_type": "code",
   "execution_count": 49,
   "metadata": {
    "collapsed": false
   },
   "outputs": [
    {
     "data": {
      "text/plain": [
       "1-element Array{Any,1}:\n",
       " PyObject <matplotlib.lines.Line2D object at 0x7f2944d940d0>"
      ]
     },
     "execution_count": 49,
     "metadata": {},
     "output_type": "execute_result"
    }
   ],
   "source": [
    "fig, ax = subplots(2,1,sharex=true)\n",
    "ax[1,1][:semilogy](H2O[:date], H2O[:H2O], \"-ok\")\n",
    "ax[1,1][:semilogy](H2O_ices[:date], H2O_ices[:NumberDensity], \"-sr\", markeredgecolor=\"r\")\n",
    "#ax[1,1][:semilogy](H2O_old[:date], H2O_old[:peakArea]/1e12, \"-sg\", markeredgecolor=\"g\")\n",
    "ax[2,1][:plot](H2O_ices[:date], H2O_ices[:delta_lon], \"-k\", lw=2)\n",
    "ax[2,1][:plot](H2O_ices[:date], H2O_ices[:delta_lat], \"-r\", lw=2)"
   ]
  },
  {
   "cell_type": "code",
   "execution_count": 51,
   "metadata": {
    "collapsed": false
   },
   "outputs": [
    {
     "data": {
      "text/plain": [
       "1-element Array{Any,1}:\n",
       " PyObject <matplotlib.lines.Line2D object at 0x7f2945ecf890>"
      ]
     },
     "execution_count": 51,
     "metadata": {},
     "output_type": "execute_result"
    }
   ],
   "source": [
    "plot(H2O_ices[:Speed])"
   ]
  },
  {
   "cell_type": "code",
   "execution_count": 13,
   "metadata": {
    "collapsed": true
   },
   "outputs": [],
   "source": [
    "CO2_ices = readtable(\"/home/abieler/ices/data/evaluated/result_tDFMS_CO2.dat\");\n",
    "CO2_ices[:date] = DateTime[DateTime(tStr) for tStr in CO2_ices[:date]];\n",
    "CO2 = readtable(\"/home/abieler/rosetta/data/dfms/evaluated/timeSeries/CO2_new.csv\");\n",
    "CO2[:date] = [DateTime(tStr) for tStr in CO2[:date]];\n",
    "CO2 = CO2[CO2[:row] .== \"A\",:];"
   ]
  },
  {
   "cell_type": "code",
   "execution_count": 15,
   "metadata": {
    "collapsed": false
   },
   "outputs": [
    {
     "data": {
      "text/plain": [
       "1-element Array{Any,1}:\n",
       " PyObject <matplotlib.lines.Line2D object at 0x7f7cec395410>"
      ]
     },
     "execution_count": 15,
     "metadata": {},
     "output_type": "execute_result"
    }
   ],
   "source": [
    "fig, ax = subplots(2,1,sharex=true)\n",
    "ax[1,1][:semilogy](CO2[:date], CO2[:peakAreaIonPerSpec], \"-ok\")\n",
    "ax[1,1][:semilogy](CO2_ices[:date], CO2_ices[:NumberDensity]./1e7, \"-or\", markeredgecolor=\"r\")\n",
    "ax[2,1][:plot](CO2_ices[:date], CO2_ices[:delta_lon], \"-k\", lw=2)\n",
    "ax[2,1][:plot](CO2_ices[:date], CO2_ices[:delta_lat], \"-r\", lw=2)"
   ]
  },
  {
   "cell_type": "code",
   "execution_count": 23,
   "metadata": {
    "collapsed": false
   },
   "outputs": [],
   "source": [
    "df = H2O\n",
    "dfflt = df[(df[:date] .< DateTime(2015,12,1)), :]\n",
    "fid = open(\"tDFMS_H2O.dat\", \"w\")\n",
    "for t in dfflt[:date]\n",
    "    write(fid, string(t), \"\\n\")\n",
    "end\n",
    "close(fid)"
   ]
  },
  {
   "cell_type": "code",
   "execution_count": 23,
   "metadata": {
    "collapsed": false
   },
   "outputs": [
    {
     "data": {
      "text/html": [
       "<table class=\"data-frame\"><tr><th></th><th>date</th><th>peakArea</th><th>peakCenter</th><th>peakWidth</th><th>peakAreaIonPerSpec</th><th>gainStep</th><th>p_pt</th><th>fileName</th></tr><tr><th>1</th><td>2014-09-01T23:15:42</td><td>2.116075e24</td><td>302.0881</td><td>4.003025</td><td>386805.0</td><td>13</td><td>9</td><td>MC_20140901_231433250_M0502.TAB</td></tr><tr><th>2</th><td>2014-09-01T23:32:07</td><td>1.897034e24</td><td>302.5092</td><td>4.030262</td><td>346765.7</td><td>13</td><td>9</td><td>MC_20140901_233058028_M0502.TAB</td></tr><tr><th>3</th><td>2014-09-01T23:43:41</td><td>1.731506e24</td><td>302.7433</td><td>4.056518</td><td>316508.2</td><td>13</td><td>8</td><td>MC_20140901_234232439_M0502.TAB</td></tr><tr><th>4</th><td>2014-09-01T23:47:27</td><td>1.635142e24</td><td>302.671</td><td>4.069442</td><td>298893.4</td><td>13</td><td>7</td><td>MC_20140901_234618544_M0502.TAB</td></tr><tr><th>5</th><td>2014-09-02T00:03:46</td><td>1.425367e24</td><td>302.3321</td><td>4.05858</td><td>260548.0</td><td>13</td><td>7</td><td>MC_20140902_000237447_M0502.TAB</td></tr><tr><th>6</th><td>2014-09-02T00:15:21</td><td>1.311432e24</td><td>303.1469</td><td>4.1026</td><td>239721.3</td><td>13</td><td>6</td><td>MC_20140902_001412137_M0502.TAB</td></tr></table>"
      ],
      "text/plain": [
       "6x8 DataFrames.DataFrame\n",
       "| Row | date                | peakArea   | peakCenter | peakWidth |\n",
       "|-----|---------------------|------------|------------|-----------|\n",
       "| 1   | 2014-09-01T23:15:42 | 2.11608e24 | 302.088    | 4.00303   |\n",
       "| 2   | 2014-09-01T23:32:07 | 1.89703e24 | 302.509    | 4.03026   |\n",
       "| 3   | 2014-09-01T23:43:41 | 1.73151e24 | 302.743    | 4.05652   |\n",
       "| 4   | 2014-09-01T23:47:27 | 1.63514e24 | 302.671    | 4.06944   |\n",
       "| 5   | 2014-09-02T00:03:46 | 1.42537e24 | 302.332    | 4.05858   |\n",
       "| 6   | 2014-09-02T00:15:21 | 1.31143e24 | 303.147    | 4.1026    |\n",
       "\n",
       "| Row | peakAreaIonPerSpec | gainStep | p_pt |\n",
       "|-----|--------------------|----------|------|\n",
       "| 1   | 386805.0           | 13       | 9    |\n",
       "| 2   | 3.46766e5          | 13       | 9    |\n",
       "| 3   | 3.16508e5          | 13       | 8    |\n",
       "| 4   | 2.98893e5          | 13       | 7    |\n",
       "| 5   | 260548.0           | 13       | 7    |\n",
       "| 6   | 2.39721e5          | 13       | 6    |\n",
       "\n",
       "| Row | fileName                          |\n",
       "|-----|-----------------------------------|\n",
       "| 1   | \"MC_20140901_231433250_M0502.TAB\" |\n",
       "| 2   | \"MC_20140901_233058028_M0502.TAB\" |\n",
       "| 3   | \"MC_20140901_234232439_M0502.TAB\" |\n",
       "| 4   | \"MC_20140901_234618544_M0502.TAB\" |\n",
       "| 5   | \"MC_20140902_000237447_M0502.TAB\" |\n",
       "| 6   | \"MC_20140902_001412137_M0502.TAB\" |"
      ]
     },
     "execution_count": 23,
     "metadata": {},
     "output_type": "execute_result"
    }
   ],
   "source": [
    "head(H2O_old)"
   ]
  },
  {
   "cell_type": "code",
   "execution_count": 27,
   "metadata": {
    "collapsed": true
   },
   "outputs": [],
   "source": [
    "fid = open(\"/home/abieler/ices/data/evaluated/tDFMS_H2O.dat\", \"w\")\n",
    "for t in H2O[:date]\n",
    "    write(fid, string(t), \"\\n\")\n",
    "end\n",
    "close(fid)"
   ]
  },
  {
   "cell_type": "code",
   "execution_count": 8,
   "metadata": {
    "collapsed": false
   },
   "outputs": [
    {
     "data": {
      "text/plain": [
       "1-element Array{Any,1}:\n",
       " PyObject <matplotlib.lines.Line2D object at 0x7f295b111c10>"
      ]
     },
     "execution_count": 8,
     "metadata": {},
     "output_type": "execute_result"
    }
   ],
   "source": [
    "y = moving_avg(H2O[:peakArea] .* H2O[:rSC_km].*H2O[:rSC_km], 500)\n",
    "figure()\n",
    "plt[:semilogy](H2O[:date], y)"
   ]
  },
  {
   "cell_type": "code",
   "execution_count": 12,
   "metadata": {
    "collapsed": false
   },
   "outputs": [
    {
     "data": {
      "text/html": [
       "<table class=\"data-frame\"><tr><th></th><th>date</th><th>H2O</th></tr><tr><th>1</th><td>2014-09-01T23:15:42</td><td>5.240040246091293e12</td></tr><tr><th>2</th><td>2014-09-01T23:43:41</td><td>4.040743069275341e12</td></tr><tr><th>3</th><td>2014-09-01T23:47:27</td><td>3.955844729949646e12</td></tr><tr><th>4</th><td>2014-09-02T00:48:02</td><td>2.7347712723726953e12</td></tr><tr><th>5</th><td>2014-09-02T00:51:43</td><td>2.643652549775188e12</td></tr><tr><th>6</th><td>2014-09-02T01:19:42</td><td>2.5112350531803467e12</td></tr></table>"
      ],
      "text/plain": [
       "6x2 DataFrames.DataFrame\n",
       "| Row | date                | H2O        |\n",
       "|-----|---------------------|------------|\n",
       "| 1   | 2014-09-01T23:15:42 | 5.24004e12 |\n",
       "| 2   | 2014-09-01T23:43:41 | 4.04074e12 |\n",
       "| 3   | 2014-09-01T23:47:27 | 3.95584e12 |\n",
       "| 4   | 2014-09-02T00:48:02 | 2.73477e12 |\n",
       "| 5   | 2014-09-02T00:51:43 | 2.64365e12 |\n",
       "| 6   | 2014-09-02T01:19:42 | 2.51124e12 |"
      ]
     },
     "execution_count": 12,
     "metadata": {},
     "output_type": "execute_result"
    }
   ],
   "source": [
    "head(H2O)"
   ]
  },
  {
   "cell_type": "code",
   "execution_count": 74,
   "metadata": {
    "collapsed": false
   },
   "outputs": [],
   "source": [
    "df = time_series(\"/home/abieler/rosetta/data/dfms/evaluated/timeSeries/new/O2_new.csv\");\n",
    "df = df[df[:row] .== \"A\", :];\n",
    "df2 = time_series(\"/home/abieler/rosetta/data/dfms/evaluated/timeSeries/O2.csv\");\n",
    "df2 = df2[df2[:row] .== \"A\", :];"
   ]
  },
  {
   "cell_type": "code",
   "execution_count": 75,
   "metadata": {
    "collapsed": false
   },
   "outputs": [
    {
     "data": {
      "text/plain": [
       "1-element Array{Any,1}:\n",
       " PyObject <matplotlib.lines.Line2D object at 0x7f293b7d5710>"
      ]
     },
     "execution_count": 75,
     "metadata": {},
     "output_type": "execute_result"
    }
   ],
   "source": [
    "semilogy(df[:date], df[:peakArea], \"ok\")\n",
    "semilogy(df2[:date], df2[:peakArea], \".r\")"
   ]
  },
  {
   "cell_type": "code",
   "execution_count": 58,
   "metadata": {
    "collapsed": false
   },
   "outputs": [
    {
     "data": {
      "text/html": [
       "<table class=\"data-frame\"><tr><th></th><th>date</th><th>peakArea</th><th>peakCenter</th><th>peakWidth</th><th>peakAreaIonPerSpec</th><th>gainStep</th><th>p_pt</th><th>fileName</th><th>row</th><th>date_1</th><th>localHourFloat</th><th>rSC_km</th><th>rSUN_km</th><th>rSUN_AU</th><th>lonSC_deg</th><th>latSC_deg</th><th>lonSUN_deg</th><th>latSUN_deg</th><th>lonSC_cso_deg</th><th>latSC_cso_deg</th><th>phaseAngle_deg</th><th>offNadirAngle_deg</th><th>xSC_km</th><th>ySC_km</th><th>zSC_km</th><th>xSUN_km</th><th>ySUN_km</th><th>zSUN_km</th></tr><tr><th>1</th><td>2014-08-01T07:17:21</td><td>5.012603e23</td><td>303.0</td><td>0.0</td><td>101627.2</td><td>15</td><td>15</td><td>201408.h5</td><td>A</td><td>2014-08-01T07:17:21</td><td>12.403202641451763</td><td>881.144572384339</td><td>5.426538822455912e8</td><td>3.6274171518768754</td><td>2.6008598636524787</td><td>38.21306331113957</td><td>-3.447179758123952</td><td>44.87061472061528</td><td>7.378085760453546</td><td>-3.217161244985693</td><td>8.045432949437519</td><td>1.0792268572668966</td><td>691.6161043777013</td><td>31.416504329856878</td><td>545.0650647982168</td><td>3.838839262240219e8</td><td>-2.3124145153279305e7</td><td>3.828467591791417e8</td></tr><tr><th>2</th><td>2014-08-01T07:20:59</td><td>5.037731e23</td><td>303.0</td><td>0.0</td><td>102086.5</td><td>15</td><td>15</td><td>201408.h5</td><td>A</td><td>2014-08-01T07:20:59</td><td>12.403630633769325</td><td>880.3788137860874</td><td>5.426517528094274e8</td><td>3.6274029174753224</td><td>0.8501289335013049</td><td>38.201434976128304</td><td>-5.204330573038568</td><td>44.87047935120872</td><td>7.388770345095402</td><td>-3.223773574408388</td><td>8.057850580602354</td><td>1.0810316138373952</td><td>691.7619701566641</td><td>10.264805384617489</td><td>544.4509768370197</td><td>3.8299374933897644e8</td><td>-3.488434933212437e7</td><td>3.82844348222736e8</td></tr><tr><th>3</th><td>2014-08-01T07:59:09</td><td>5.106098e23</td><td>303.0</td><td>0.0</td><td>103336.2</td><td>15</td><td>15</td><td>201408.h5</td><td>A</td><td>2014-08-01T07:59:09</td><td>12.408165435989078</td><td>872.3374548654346</td><td>5.42629383395688e8</td><td>3.6272533871803585</td><td>-17.539992851162573</td><td>38.07802665772759</td><td>-23.662474390998756</td><td>44.8690572300058</td><td>7.5021785984344085</td><td>-3.293927502050436</td><td>8.189661233873554</td><td>1.100266048495023</td><td>654.7533711919225</td><td>-206.94551214481228</td><td>538.0001980269506</td><td>3.522400995308037e8</td><td>-1.543475202525525e8</td><td>3.82819021208197e8</td></tr><tr><th>4</th><td>2014-08-01T10:09:21</td><td>4.714273e23</td><td>303.0</td><td>0.0</td><td>96173.88</td><td>15</td><td>15</td><td>201408.h5</td><td>A</td><td>2014-08-01T10:09:21</td><td>12.424188296748909</td><td>844.9431213040519</td><td>5.425530656360608e8</td><td>3.626743234467327</td><td>-80.2669065055634</td><td>37.63902424524711</td><td>-86.62973095679703</td><td>44.86420420203639</td><td>7.905828755324518</td><td>-3.5431778765563524</td><td>8.65889384738552</td><td>1.0974877405886774</td><td>113.1152038036611</td><td>-659.4575280911906</td><td>515.9937960395905</td><td>2.260713693313034e7</td><td>-3.8388604585292566e8</td><td>3.827326092589706e8</td></tr><tr><th>5</th><td>2014-08-01T10:12:41</td><td>4.195793e23</td><td>303.0</td><td>0.0</td><td>86696.41</td><td>15</td><td>15</td><td>201408.h5</td><td>A</td><td>2014-08-01T10:12:41</td><td>12.424610125588849</td><td>844.2425776401922</td><td>5.425511116184483e8</td><td>3.626730172666362</td><td>-81.87264399570753</td><td>37.62740379333031</td><td>-88.24179587954028</td><td>44.86407992266096</td><td>7.91651794044578</td><td>-3.5497689804478014</td><td>8.671320935988016</td><td>1.0440268930454408</td><td>94.52799389870741</td><td>-661.9225831268209</td><td>515.4303854224727</td><td>1.1798640686939389e7</td><td>-3.8436954123003924e8</td><td>3.827303967167536e8</td></tr><tr><th>6</th><td>2014-08-01T10:28:50</td><td>4.00805e23</td><td>303.0</td><td>0.0</td><td>83264.59</td><td>15</td><td>14</td><td>201408.h5</td><td>A</td><td>2014-08-01T10:28:50</td><td>12.42666233479735</td><td>840.8490297717221</td><td>5.42541644291476e8</td><td>3.626666887494422</td><td>-89.65231539584009</td><td>37.57082322021113</td><td>-96.05225041780034</td><td>44.86347776511215</td><td>7.9685672435168335</td><td>-3.581856601428941</td><td>8.731833273440367</td><td>0.6588412938347153</td><td>4.044197833057353</td><td>-666.4448766940884</td><td>512.7006550221435</td><td>-4.0544948145309284e7</td><td>-3.8240448740011585e8</td><td>3.8271967676962626e8</td></tr></table>"
      ],
      "text/plain": [
       "6x28 DataFrames.DataFrame\n",
       "| Row | date                | peakArea   | peakCenter | peakWidth |\n",
       "|-----|---------------------|------------|------------|-----------|\n",
       "| 1   | 2014-08-01T07:17:21 | 5.0126e23  | 303.0      | 0.0       |\n",
       "| 2   | 2014-08-01T07:20:59 | 5.03773e23 | 303.0      | 0.0       |\n",
       "| 3   | 2014-08-01T07:59:09 | 5.1061e23  | 303.0      | 0.0       |\n",
       "| 4   | 2014-08-01T10:09:21 | 4.71427e23 | 303.0      | 0.0       |\n",
       "| 5   | 2014-08-01T10:12:41 | 4.19579e23 | 303.0      | 0.0       |\n",
       "| 6   | 2014-08-01T10:28:50 | 4.00805e23 | 303.0      | 0.0       |\n",
       "\n",
       "| Row | peakAreaIonPerSpec | gainStep | p_pt | fileName    | row |\n",
       "|-----|--------------------|----------|------|-------------|-----|\n",
       "| 1   | 1.01627e5          | 15       | 15   | \"201408.h5\" | \"A\" |\n",
       "| 2   | 1.02087e5          | 15       | 15   | \"201408.h5\" | \"A\" |\n",
       "| 3   | 1.03336e5          | 15       | 15   | \"201408.h5\" | \"A\" |\n",
       "| 4   | 96173.9            | 15       | 15   | \"201408.h5\" | \"A\" |\n",
       "| 5   | 86696.4            | 15       | 15   | \"201408.h5\" | \"A\" |\n",
       "| 6   | 83264.6            | 15       | 14   | \"201408.h5\" | \"A\" |\n",
       "\n",
       "| Row | date_1                | localHourFloat | rSC_km  | rSUN_km   | rSUN_AU |\n",
       "|-----|-----------------------|----------------|---------|-----------|---------|\n",
       "| 1   | \"2014-08-01T07:17:21\" | 12.4032        | 881.145 | 5.42654e8 | 3.62742 |\n",
       "| 2   | \"2014-08-01T07:20:59\" | 12.4036        | 880.379 | 5.42652e8 | 3.6274  |\n",
       "| 3   | \"2014-08-01T07:59:09\" | 12.4082        | 872.337 | 5.42629e8 | 3.62725 |\n",
       "| 4   | \"2014-08-01T10:09:21\" | 12.4242        | 844.943 | 5.42553e8 | 3.62674 |\n",
       "| 5   | \"2014-08-01T10:12:41\" | 12.4246        | 844.243 | 5.42551e8 | 3.62673 |\n",
       "| 6   | \"2014-08-01T10:28:50\" | 12.4267        | 840.849 | 5.42542e8 | 3.62667 |\n",
       "\n",
       "| Row | lonSC_deg | latSC_deg | lonSUN_deg | latSUN_deg | lonSC_cso_deg |\n",
       "|-----|-----------|-----------|------------|------------|---------------|\n",
       "| 1   | 2.60086   | 38.2131   | -3.44718   | 44.8706    | 7.37809       |\n",
       "| 2   | 0.850129  | 38.2014   | -5.20433   | 44.8705    | 7.38877       |\n",
       "| 3   | -17.54    | 38.078    | -23.6625   | 44.8691    | 7.50218       |\n",
       "| 4   | -80.2669  | 37.639    | -86.6297   | 44.8642    | 7.90583       |\n",
       "| 5   | -81.8726  | 37.6274   | -88.2418   | 44.8641    | 7.91652       |\n",
       "| 6   | -89.6523  | 37.5708   | -96.0523   | 44.8635    | 7.96857       |\n",
       "\n",
       "| Row | latSC_cso_deg | phaseAngle_deg | offNadirAngle_deg | xSC_km  |\n",
       "|-----|---------------|----------------|-------------------|---------|\n",
       "| 1   | -3.21716      | 8.04543        | 1.07923           | 691.616 |\n",
       "| 2   | -3.22377      | 8.05785        | 1.08103           | 691.762 |\n",
       "| 3   | -3.29393      | 8.18966        | 1.10027           | 654.753 |\n",
       "| 4   | -3.54318      | 8.65889        | 1.09749           | 113.115 |\n",
       "| 5   | -3.54977      | 8.67132        | 1.04403           | 94.528  |\n",
       "| 6   | -3.58186      | 8.73183        | 0.658841          | 4.0442  |\n",
       "\n",
       "| Row | ySC_km   | zSC_km  | xSUN_km    | ySUN_km    | zSUN_km   |\n",
       "|-----|----------|---------|------------|------------|-----------|\n",
       "| 1   | 31.4165  | 545.065 | 3.83884e8  | -2.31241e7 | 3.82847e8 |\n",
       "| 2   | 10.2648  | 544.451 | 3.82994e8  | -3.48843e7 | 3.82844e8 |\n",
       "| 3   | -206.946 | 538.0   | 3.5224e8   | -1.54348e8 | 3.82819e8 |\n",
       "| 4   | -659.458 | 515.994 | 2.26071e7  | -3.83886e8 | 3.82733e8 |\n",
       "| 5   | -661.923 | 515.43  | 1.17986e7  | -3.8437e8  | 3.8273e8  |\n",
       "| 6   | -666.445 | 512.701 | -4.05449e7 | -3.82404e8 | 3.8272e8  |"
      ]
     },
     "execution_count": 58,
     "metadata": {},
     "output_type": "execute_result"
    }
   ],
   "source": [
    "head(df)"
   ]
  },
  {
   "cell_type": "code",
   "execution_count": 91,
   "metadata": {
    "collapsed": false
   },
   "outputs": [
    {
     "data": {
      "text/plain": [
       "1-element Array{Any,1}:\n",
       " PyObject <matplotlib.lines.Line2D object at 0x7f2931b5e450>"
      ]
     },
     "execution_count": 91,
     "metadata": {},
     "output_type": "execute_result"
    }
   ],
   "source": [
    "df1= time_series(\"/home/abieler/rosetta/data/dfms/evaluated/DFMS_major_species_new.csv\");\n",
    "df2 = time_series(\"/home/abieler/rosetta/data/dfms/evaluated/timeSeries/new/H2O_new.csv\");\n",
    "semilogy(df1[:date], df1[:COPS_scaled], \"ok\")\n",
    "semilogy(df1[:date], df1[:H2O], \"sb\", markeredgecolor=\"b\")\n",
    "semilogy(df1[:date], df1[:CO2], \"sr\", markeredgecolor=\"r\")\n",
    "semilogy(df1[:date], df1[:CO], \"sg\", markeredgecolor=\"g\")\n"
   ]
  },
  {
   "cell_type": "code",
   "execution_count": 85,
   "metadata": {
    "collapsed": false
   },
   "outputs": [
    {
     "data": {
      "text/html": [
       "<table class=\"data-frame\"><tr><th></th><th>date</th><th>H2O</th><th>CO</th><th>O2</th><th>CO2</th><th>COPS_scaled</th><th>COPS</th><th>sumSpecies</th><th>multFactor</th></tr><tr><th>1</th><td>2014-08-05T11:58:23</td><td>3.4640413574176666e11</td><td>1.769935998041487e11</td><td>1.7418910505058014e9</td><td>6.45316015510251e10</td><td>5.896712281474462e11</td><td>6.623195692679791e11</td><td>5.896712281474462e11</td><td>9.676360763657057e-13</td></tr><tr><th>2</th><td>2014-08-05T11:58:23</td><td>3.952375691100339e11</td><td>1.4172263276468866e11</td><td>1.3947701269430025e9</td><td>5.167185976472112e10</td><td>5.900268317663866e11</td><td>6.623195692679791e11</td><td>5.900268317663866e11</td><td>7.7480729502303e-13</td></tr><tr><th>3</th><td>2014-08-05T12:01:59</td><td>3.047304625464128e11</td><td>1.6698212168596048e11</td><td>1.6433626056597524e9</td><td>6.088143161508041e10</td><td>5.3423737845311334e11</td><td>6.001310670345132e11</td><td>5.3423737845311334e11</td><td>9.12902642978146e-13</td></tr><tr><th>4</th><td>2014-08-05T12:01:59</td><td>3.507838990026711e11</td><td>1.3371912006442322e11</td><td>1.3160031706201267e9</td><td>4.875379101447475e10</td><td>5.3457281325218915e11</td><td>6.001310670345132e11</td><td>5.3457281325218915e11</td><td>7.310515454648676e-13</td></tr><tr><th>5</th><td>2014-08-05T12:29:31</td><td>2.4365933298843292e11</td><td>1.2365395469113246e11</td><td>9.22802146038564e8</td><td>4.882408443969867e10</td><td>4.170601742653026e11</td><td>4.693548483925839e11</td><td>4.170601742653026e11</td><td>6.984612740444158e-13</td></tr><tr><th>6</th><td>2014-08-05T12:29:31</td><td>2.760411986656326e11</td><td>1.008360966717512e11</td><td>7.525175125961182e8</td><td>3.981457860178131e10</td><td>4.174443914517612e11</td><td>4.693548483925839e11</td><td>4.174443914517612e11</td><td>5.695742503904563e-13</td></tr></table>"
      ],
      "text/plain": [
       "6x9 DataFrames.DataFrame\n",
       "| Row | date                | H2O        | CO         | O2        | CO2        |\n",
       "|-----|---------------------|------------|------------|-----------|------------|\n",
       "| 1   | 2014-08-05T11:58:23 | 3.46404e11 | 1.76994e11 | 1.74189e9 | 6.45316e10 |\n",
       "| 2   | 2014-08-05T11:58:23 | 3.95238e11 | 1.41723e11 | 1.39477e9 | 5.16719e10 |\n",
       "| 3   | 2014-08-05T12:01:59 | 3.0473e11  | 1.66982e11 | 1.64336e9 | 6.08814e10 |\n",
       "| 4   | 2014-08-05T12:01:59 | 3.50784e11 | 1.33719e11 | 1.316e9   | 4.87538e10 |\n",
       "| 5   | 2014-08-05T12:29:31 | 2.43659e11 | 1.23654e11 | 9.22802e8 | 4.88241e10 |\n",
       "| 6   | 2014-08-05T12:29:31 | 2.76041e11 | 1.00836e11 | 7.52518e8 | 3.98146e10 |\n",
       "\n",
       "| Row | COPS_scaled | COPS       | sumSpecies | multFactor  |\n",
       "|-----|-------------|------------|------------|-------------|\n",
       "| 1   | 5.89671e11  | 6.6232e11  | 5.89671e11 | 9.67636e-13 |\n",
       "| 2   | 5.90027e11  | 6.6232e11  | 5.90027e11 | 7.74807e-13 |\n",
       "| 3   | 5.34237e11  | 6.00131e11 | 5.34237e11 | 9.12903e-13 |\n",
       "| 4   | 5.34573e11  | 6.00131e11 | 5.34573e11 | 7.31052e-13 |\n",
       "| 5   | 4.1706e11   | 4.69355e11 | 4.1706e11  | 6.98461e-13 |\n",
       "| 6   | 4.17444e11  | 4.69355e11 | 4.17444e11 | 5.69574e-13 |"
      ]
     },
     "execution_count": 85,
     "metadata": {},
     "output_type": "execute_result"
    }
   ],
   "source": [
    "head(df1)"
   ]
  },
  {
   "cell_type": "code",
   "execution_count": null,
   "metadata": {
    "collapsed": true
   },
   "outputs": [],
   "source": []
  }
 ],
 "metadata": {
  "kernelspec": {
   "display_name": "Julia 0.4.0",
   "language": "julia",
   "name": "julia-0.4"
  },
  "language_info": {
   "file_extension": ".jl",
   "mimetype": "application/julia",
   "name": "julia",
   "version": "0.4.2"
  }
 },
 "nbformat": 4,
 "nbformat_minor": 0
}
